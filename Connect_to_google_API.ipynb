{
  "nbformat": 4,
  "nbformat_minor": 0,
  "metadata": {
    "colab": {
      "name": "Connect to google API",
      "provenance": [],
      "toc_visible": true,
      "authorship_tag": "ABX9TyMtLn8tvhbRYHz0TVYOFvqA",
      "include_colab_link": true
    },
    "kernelspec": {
      "name": "python3",
      "display_name": "Python 3"
    }
  },
  "cells": [
    {
      "cell_type": "markdown",
      "metadata": {
        "id": "view-in-github",
        "colab_type": "text"
      },
      "source": [
        "<a href=\"https://colab.research.google.com/github/WanjohiWanjohi/Mysnippets/blob/master/Connect_to_google_API.ipynb\" target=\"_parent\"><img src=\"https://colab.research.google.com/assets/colab-badge.svg\" alt=\"Open In Colab\"/></a>"
      ]
    },
    {
      "cell_type": "code",
      "metadata": {
        "id": "5GiFKbg0rezv",
        "outputId": "f489c700-c15c-4e3d-fd8a-9b7fad940725",
        "colab": {
          "base_uri": "https://localhost:8080/",
          "height": 349
        }
      },
      "source": [
        "# libraries for connecting to google sheets\n",
        "\n",
        "!pip install --upgrade oauth2client\n",
        "!pip install PyOpenSSL"
      ],
      "execution_count": null,
      "outputs": [
        {
          "output_type": "stream",
          "text": [
            "Requirement already up-to-date: oauth2client in /usr/local/lib/python3.6/dist-packages (4.1.3)\n",
            "Requirement already satisfied, skipping upgrade: httplib2>=0.9.1 in /usr/local/lib/python3.6/dist-packages (from oauth2client) (0.17.4)\n",
            "Requirement already satisfied, skipping upgrade: pyasn1>=0.1.7 in /usr/local/lib/python3.6/dist-packages (from oauth2client) (0.4.8)\n",
            "Requirement already satisfied, skipping upgrade: six>=1.6.1 in /usr/local/lib/python3.6/dist-packages (from oauth2client) (1.15.0)\n",
            "Requirement already satisfied, skipping upgrade: pyasn1-modules>=0.0.5 in /usr/local/lib/python3.6/dist-packages (from oauth2client) (0.2.8)\n",
            "Requirement already satisfied, skipping upgrade: rsa>=3.1.4 in /usr/local/lib/python3.6/dist-packages (from oauth2client) (4.6)\n",
            "Collecting PyOpenSSL\n",
            "\u001b[?25l  Downloading https://files.pythonhosted.org/packages/9e/de/f8342b68fa9e981d348039954657bdf681b2ab93de27443be51865ffa310/pyOpenSSL-19.1.0-py2.py3-none-any.whl (53kB)\n",
            "\u001b[K     |████████████████████████████████| 61kB 1.9MB/s \n",
            "\u001b[?25hRequirement already satisfied: six>=1.5.2 in /usr/local/lib/python3.6/dist-packages (from PyOpenSSL) (1.15.0)\n",
            "Collecting cryptography>=2.8\n",
            "\u001b[?25l  Downloading https://files.pythonhosted.org/packages/33/62/30f6936941d87a5ed72efb24249437824f6b2c953901245b58c91fde2f27/cryptography-3.1.1-cp35-abi3-manylinux2010_x86_64.whl (2.6MB)\n",
            "\u001b[K     |████████████████████████████████| 2.6MB 6.8MB/s \n",
            "\u001b[?25hRequirement already satisfied: cffi!=1.11.3,>=1.8 in /usr/local/lib/python3.6/dist-packages (from cryptography>=2.8->PyOpenSSL) (1.14.2)\n",
            "Requirement already satisfied: pycparser in /usr/local/lib/python3.6/dist-packages (from cffi!=1.11.3,>=1.8->cryptography>=2.8->PyOpenSSL) (2.20)\n",
            "Installing collected packages: cryptography, PyOpenSSL\n",
            "Successfully installed PyOpenSSL-19.1.0 cryptography-3.1.1\n"
          ],
          "name": "stdout"
        }
      ]
    },
    {
      "cell_type": "code",
      "metadata": {
        "id": "Yh9lVJRcupgh"
      },
      "source": [
        "from oauth2client.service_account import ServiceAccountCredentials\n",
        "import pandas as pd\n",
        "import gspread"
      ],
      "execution_count": 3,
      "outputs": []
    },
    {
      "cell_type": "code",
      "metadata": {
        "id": "6-d9OO4zuwMM"
      },
      "source": [
        "scope = ['https://spreadsheets.google.com/feeds',\n",
        "         'https://www.googleapis.com/auth/drive']\n",
        "api_key_file = 'someapi'\n",
        "\n",
        "credentials = ServiceAccountCredentials.from_json_keyfile_name(\n",
        "         str(api_key_file )+'.json', scope) # Your json file here\n",
        "\n",
        "# gc = gspread.authorize(credentials)\n",
        "\n",
        "# wks = gc.open(\"Sunculture excercise\").sheet1\n",
        "\n",
        "# data = wks.get_all_values()\n",
        "class Gsuite:\n",
        "  def __init__(self, scope , credentials , filename):\n",
        "    self.scope = scope\n",
        "    self.credentials = credentials\n",
        "    self.filename = filename\n",
        "\n",
        "  def getSheet(self):\n",
        "    gc = gspread.authorize(credentials)\n",
        "    wks = gc.open(self.filename).sheet1\n",
        "    data = wks.get_all_values()\n",
        "    headers = data.pop(0)\n",
        "    df = pd.DataFrame(data, columns=headers)\n",
        "    return df\n",
        "gsuite = Gsuite(scope , credentials , 'Sunculture excercise')\n",
        "sheet_df = gsuite.getSheet()\n",
        "\n",
        "\n",
        "\n",
        "\n",
        "\n",
        "\n"
      ],
      "execution_count": 29,
      "outputs": []
    },
    {
      "cell_type": "code",
      "metadata": {
        "id": "zVojwPAWhEvo",
        "outputId": "f185e9d6-c7da-4841-c36b-fbb951c12776",
        "colab": {
          "base_uri": "https://localhost:8080/",
          "height": 424
        }
      },
      "source": [
        "sheet_df"
      ],
      "execution_count": 30,
      "outputs": [
        {
          "output_type": "execute_result",
          "data": {
            "text/html": [
              "<div>\n",
              "<style scoped>\n",
              "    .dataframe tbody tr th:only-of-type {\n",
              "        vertical-align: middle;\n",
              "    }\n",
              "\n",
              "    .dataframe tbody tr th {\n",
              "        vertical-align: top;\n",
              "    }\n",
              "\n",
              "    .dataframe thead th {\n",
              "        text-align: right;\n",
              "    }\n",
              "</style>\n",
              "<table border=\"1\" class=\"dataframe\">\n",
              "  <thead>\n",
              "    <tr style=\"text-align: right;\">\n",
              "      <th></th>\n",
              "      <th>id</th>\n",
              "      <th>Expected_Amount</th>\n",
              "      <th>Amount_paid</th>\n",
              "      <th>Expected_date</th>\n",
              "      <th>date_paid</th>\n",
              "    </tr>\n",
              "  </thead>\n",
              "  <tbody>\n",
              "    <tr>\n",
              "      <th>0</th>\n",
              "      <td>C8ACA7S</td>\n",
              "      <td>4300</td>\n",
              "      <td>4300</td>\n",
              "      <td>05/09/2020 0:00</td>\n",
              "      <td>05/09/2020 0:00</td>\n",
              "    </tr>\n",
              "    <tr>\n",
              "      <th>1</th>\n",
              "      <td>C8ACA7S</td>\n",
              "      <td>4300</td>\n",
              "      <td>0</td>\n",
              "      <td>05/10/2020 0:00</td>\n",
              "      <td></td>\n",
              "    </tr>\n",
              "    <tr>\n",
              "      <th>2</th>\n",
              "      <td>C8ACA7S</td>\n",
              "      <td>4300</td>\n",
              "      <td>0</td>\n",
              "      <td>05/11/2020 0:00</td>\n",
              "      <td></td>\n",
              "    </tr>\n",
              "    <tr>\n",
              "      <th>3</th>\n",
              "      <td>C8ACA7S</td>\n",
              "      <td>4300</td>\n",
              "      <td>0</td>\n",
              "      <td>05/12/2020 0:00</td>\n",
              "      <td></td>\n",
              "    </tr>\n",
              "    <tr>\n",
              "      <th>4</th>\n",
              "      <td>C8ACA7S</td>\n",
              "      <td>4300</td>\n",
              "      <td>0</td>\n",
              "      <td>05/01/2021 0:00</td>\n",
              "      <td></td>\n",
              "    </tr>\n",
              "    <tr>\n",
              "      <th>...</th>\n",
              "      <td>...</td>\n",
              "      <td>...</td>\n",
              "      <td>...</td>\n",
              "      <td>...</td>\n",
              "      <td>...</td>\n",
              "    </tr>\n",
              "    <tr>\n",
              "      <th>3124</th>\n",
              "      <td></td>\n",
              "      <td>3100</td>\n",
              "      <td>0</td>\n",
              "      <td>05/02/2021 0:00</td>\n",
              "      <td></td>\n",
              "    </tr>\n",
              "    <tr>\n",
              "      <th>3125</th>\n",
              "      <td></td>\n",
              "      <td>3100</td>\n",
              "      <td>0</td>\n",
              "      <td>05/03/2021 0:00</td>\n",
              "      <td></td>\n",
              "    </tr>\n",
              "    <tr>\n",
              "      <th>3126</th>\n",
              "      <td></td>\n",
              "      <td>3100</td>\n",
              "      <td>0</td>\n",
              "      <td>05/04/2021 0:00</td>\n",
              "      <td></td>\n",
              "    </tr>\n",
              "    <tr>\n",
              "      <th>3127</th>\n",
              "      <td></td>\n",
              "      <td>3100</td>\n",
              "      <td>0</td>\n",
              "      <td>05/05/2021 0:00</td>\n",
              "      <td></td>\n",
              "    </tr>\n",
              "    <tr>\n",
              "      <th>3128</th>\n",
              "      <td></td>\n",
              "      <td>3100</td>\n",
              "      <td>0</td>\n",
              "      <td>05/06/2021 0:00</td>\n",
              "      <td></td>\n",
              "    </tr>\n",
              "  </tbody>\n",
              "</table>\n",
              "<p>3129 rows × 5 columns</p>\n",
              "</div>"
            ],
            "text/plain": [
              "           id Expected_Amount Amount_paid    Expected_date        date_paid\n",
              "0     C8ACA7S            4300        4300  05/09/2020 0:00  05/09/2020 0:00\n",
              "1     C8ACA7S            4300           0  05/10/2020 0:00                 \n",
              "2     C8ACA7S            4300           0  05/11/2020 0:00                 \n",
              "3     C8ACA7S            4300           0  05/12/2020 0:00                 \n",
              "4     C8ACA7S            4300           0  05/01/2021 0:00                 \n",
              "...       ...             ...         ...              ...              ...\n",
              "3124                     3100           0  05/02/2021 0:00                 \n",
              "3125                     3100           0  05/03/2021 0:00                 \n",
              "3126                     3100           0  05/04/2021 0:00                 \n",
              "3127                     3100           0  05/05/2021 0:00                 \n",
              "3128                     3100           0  05/06/2021 0:00                 \n",
              "\n",
              "[3129 rows x 5 columns]"
            ]
          },
          "metadata": {
            "tags": []
          },
          "execution_count": 30
        }
      ]
    },
    {
      "cell_type": "markdown",
      "metadata": {
        "id": "xTKPYts2u6fw"
      },
      "source": [
        "## References\n",
        "\n"
      ]
    },
    {
      "cell_type": "markdown",
      "metadata": {
        "id": "KYfooIRBvA_w"
      },
      "source": [
        "1. Installing and connecting to Gsheets : https://medium.com/@vince.shields913/reading-google-sheets-into-a-pandas-dataframe-with-gspread-and-oauth2-375b932be7bf"
      ]
    }
  ]
}